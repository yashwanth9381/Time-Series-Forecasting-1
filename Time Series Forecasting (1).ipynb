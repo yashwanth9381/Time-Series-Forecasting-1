{
 "cells": [
  {
   "cell_type": "markdown",
   "metadata": {},
   "source": [
    "# <center> Time Series Forecasting <center>"
   ]
  },
  {
   "cell_type": "code",
   "execution_count": 1,
   "metadata": {},
   "outputs": [],
   "source": [
    "import numpy as np\n",
    "import pandas as pd\n",
    "import warnings\n",
    "warnings.simplefilter(action='ignore', category=FutureWarning)\n",
    "\n",
    "%matplotlib inline"
   ]
  },
  {
   "cell_type": "code",
   "execution_count": 2,
   "metadata": {},
   "outputs": [],
   "source": [
    "sales = pd.read_csv('Tractor-Sales.csv')"
   ]
  },
  {
   "cell_type": "code",
   "execution_count": 3,
   "metadata": {},
   "outputs": [
    {
     "name": "stdout",
     "output_type": "stream",
     "text": [
      "<class 'pandas.core.frame.DataFrame'>\n",
      "RangeIndex: 144 entries, 0 to 143\n",
      "Data columns (total 2 columns):\n",
      " #   Column                  Non-Null Count  Dtype \n",
      "---  ------                  --------------  ----- \n",
      " 0   Month-Year              144 non-null    object\n",
      " 1   Number of Tractor Sold  144 non-null    int64 \n",
      "dtypes: int64(1), object(1)\n",
      "memory usage: 2.4+ KB\n"
     ]
    }
   ],
   "source": [
    "sales.info()"
   ]
  },
  {
   "cell_type": "code",
   "execution_count": 5,
   "metadata": {
    "scrolled": true
   },
   "outputs": [
    {
     "data": {
      "text/html": [
       "<div>\n",
       "<style scoped>\n",
       "    .dataframe tbody tr th:only-of-type {\n",
       "        vertical-align: middle;\n",
       "    }\n",
       "\n",
       "    .dataframe tbody tr th {\n",
       "        vertical-align: top;\n",
       "    }\n",
       "\n",
       "    .dataframe thead th {\n",
       "        text-align: right;\n",
       "    }\n",
       "</style>\n",
       "<table border=\"1\" class=\"dataframe\">\n",
       "  <thead>\n",
       "    <tr style=\"text-align: right;\">\n",
       "      <th></th>\n",
       "      <th>Month-Year</th>\n",
       "      <th>Number of Tractor Sold</th>\n",
       "    </tr>\n",
       "  </thead>\n",
       "  <tbody>\n",
       "    <tr>\n",
       "      <th>0</th>\n",
       "      <td>Jan-03</td>\n",
       "      <td>141</td>\n",
       "    </tr>\n",
       "    <tr>\n",
       "      <th>1</th>\n",
       "      <td>Feb-03</td>\n",
       "      <td>157</td>\n",
       "    </tr>\n",
       "    <tr>\n",
       "      <th>2</th>\n",
       "      <td>Mar-03</td>\n",
       "      <td>185</td>\n",
       "    </tr>\n",
       "    <tr>\n",
       "      <th>3</th>\n",
       "      <td>Apr-03</td>\n",
       "      <td>199</td>\n",
       "    </tr>\n",
       "    <tr>\n",
       "      <th>4</th>\n",
       "      <td>May-03</td>\n",
       "      <td>203</td>\n",
       "    </tr>\n",
       "    <tr>\n",
       "      <th>...</th>\n",
       "      <td>...</td>\n",
       "      <td>...</td>\n",
       "    </tr>\n",
       "    <tr>\n",
       "      <th>139</th>\n",
       "      <td>Aug-14</td>\n",
       "      <td>848</td>\n",
       "    </tr>\n",
       "    <tr>\n",
       "      <th>140</th>\n",
       "      <td>Sep-14</td>\n",
       "      <td>640</td>\n",
       "    </tr>\n",
       "    <tr>\n",
       "      <th>141</th>\n",
       "      <td>Oct-14</td>\n",
       "      <td>581</td>\n",
       "    </tr>\n",
       "    <tr>\n",
       "      <th>142</th>\n",
       "      <td>Nov-14</td>\n",
       "      <td>519</td>\n",
       "    </tr>\n",
       "    <tr>\n",
       "      <th>143</th>\n",
       "      <td>Dec-14</td>\n",
       "      <td>605</td>\n",
       "    </tr>\n",
       "  </tbody>\n",
       "</table>\n",
       "<p>144 rows × 2 columns</p>\n",
       "</div>"
      ],
      "text/plain": [
       "    Month-Year  Number of Tractor Sold\n",
       "0       Jan-03                     141\n",
       "1       Feb-03                     157\n",
       "2       Mar-03                     185\n",
       "3       Apr-03                     199\n",
       "4       May-03                     203\n",
       "..         ...                     ...\n",
       "139     Aug-14                     848\n",
       "140     Sep-14                     640\n",
       "141     Oct-14                     581\n",
       "142     Nov-14                     519\n",
       "143     Dec-14                     605\n",
       "\n",
       "[144 rows x 2 columns]"
      ]
     },
     "execution_count": 5,
     "metadata": {},
     "output_type": "execute_result"
    }
   ],
   "source": [
    "sales"
   ]
  },
  {
   "cell_type": "code",
   "execution_count": 6,
   "metadata": {},
   "outputs": [],
   "source": [
    "sales.columns = ['Month_Year', 'No_Tractors_Sold']"
   ]
  },
  {
   "cell_type": "code",
   "execution_count": 7,
   "metadata": {},
   "outputs": [
    {
     "ename": "OutOfBoundsDatetime",
     "evalue": "Out of bounds nanosecond timestamp: 1-01-03 00:00:00",
     "output_type": "error",
     "traceback": [
      "\u001b[0;31m---------------------------------------------------------------------------\u001b[0m",
      "\u001b[0;31mTypeError\u001b[0m                                 Traceback (most recent call last)",
      "File \u001b[0;32m~/opt/anaconda3/lib/python3.8/site-packages/pandas/core/arrays/datetimes.py:2054\u001b[0m, in \u001b[0;36mobjects_to_datetime64ns\u001b[0;34m(data, dayfirst, yearfirst, utc, errors, require_iso8601, allow_object)\u001b[0m\n\u001b[1;32m   2053\u001b[0m \u001b[38;5;28;01mtry\u001b[39;00m:\n\u001b[0;32m-> 2054\u001b[0m     values, tz_parsed \u001b[38;5;241m=\u001b[39m \u001b[43mconversion\u001b[49m\u001b[38;5;241;43m.\u001b[39;49m\u001b[43mdatetime_to_datetime64\u001b[49m\u001b[43m(\u001b[49m\u001b[43mdata\u001b[49m\u001b[43m)\u001b[49m\n\u001b[1;32m   2055\u001b[0m     \u001b[38;5;66;03m# If tzaware, these values represent unix timestamps, so we\u001b[39;00m\n\u001b[1;32m   2056\u001b[0m     \u001b[38;5;66;03m#  return them as i8 to distinguish from wall times\u001b[39;00m\n",
      "File \u001b[0;32mpandas/_libs/tslibs/conversion.pyx:350\u001b[0m, in \u001b[0;36mpandas._libs.tslibs.conversion.datetime_to_datetime64\u001b[0;34m()\u001b[0m\n",
      "\u001b[0;31mTypeError\u001b[0m: Unrecognized value type: <class 'str'>",
      "\nDuring handling of the above exception, another exception occurred:\n",
      "\u001b[0;31mOutOfBoundsDatetime\u001b[0m                       Traceback (most recent call last)",
      "Input \u001b[0;32mIn [7]\u001b[0m, in \u001b[0;36m<cell line: 1>\u001b[0;34m()\u001b[0m\n\u001b[0;32m----> 1\u001b[0m sales[\u001b[38;5;124m'\u001b[39m\u001b[38;5;124mMonth_Year\u001b[39m\u001b[38;5;124m'\u001b[39m] \u001b[38;5;241m=\u001b[39m \u001b[43mpd\u001b[49m\u001b[38;5;241;43m.\u001b[39;49m\u001b[43mto_datetime\u001b[49m\u001b[43m(\u001b[49m\u001b[43msales\u001b[49m\u001b[38;5;241;43m.\u001b[39;49m\u001b[43mMonth_Year\u001b[49m\u001b[43m)\u001b[49m\n",
      "File \u001b[0;32m~/opt/anaconda3/lib/python3.8/site-packages/pandas/core/tools/datetimes.py:803\u001b[0m, in \u001b[0;36mto_datetime\u001b[0;34m(arg, errors, dayfirst, yearfirst, utc, format, exact, unit, infer_datetime_format, origin, cache)\u001b[0m\n\u001b[1;32m    801\u001b[0m         result \u001b[38;5;241m=\u001b[39m arg\u001b[38;5;241m.\u001b[39mmap(cache_array)\n\u001b[1;32m    802\u001b[0m     \u001b[38;5;28;01melse\u001b[39;00m:\n\u001b[0;32m--> 803\u001b[0m         values \u001b[38;5;241m=\u001b[39m \u001b[43mconvert_listlike\u001b[49m\u001b[43m(\u001b[49m\u001b[43marg\u001b[49m\u001b[38;5;241;43m.\u001b[39;49m\u001b[43m_values\u001b[49m\u001b[43m,\u001b[49m\u001b[43m \u001b[49m\u001b[38;5;28;43mformat\u001b[39;49m\u001b[43m)\u001b[49m\n\u001b[1;32m    804\u001b[0m         result \u001b[38;5;241m=\u001b[39m arg\u001b[38;5;241m.\u001b[39m_constructor(values, index\u001b[38;5;241m=\u001b[39marg\u001b[38;5;241m.\u001b[39mindex, name\u001b[38;5;241m=\u001b[39marg\u001b[38;5;241m.\u001b[39mname)\n\u001b[1;32m    805\u001b[0m \u001b[38;5;28;01melif\u001b[39;00m \u001b[38;5;28misinstance\u001b[39m(arg, (ABCDataFrame, abc\u001b[38;5;241m.\u001b[39mMutableMapping)):\n",
      "File \u001b[0;32m~/opt/anaconda3/lib/python3.8/site-packages/pandas/core/tools/datetimes.py:459\u001b[0m, in \u001b[0;36m_convert_listlike_datetimes\u001b[0;34m(arg, format, name, tz, unit, errors, infer_datetime_format, dayfirst, yearfirst, exact)\u001b[0m\n\u001b[1;32m    457\u001b[0m     \u001b[38;5;28;01massert\u001b[39;00m \u001b[38;5;28mformat\u001b[39m \u001b[38;5;129;01mis\u001b[39;00m \u001b[38;5;28;01mNone\u001b[39;00m \u001b[38;5;129;01mor\u001b[39;00m infer_datetime_format\n\u001b[1;32m    458\u001b[0m     utc \u001b[38;5;241m=\u001b[39m tz \u001b[38;5;241m==\u001b[39m \u001b[38;5;124m\"\u001b[39m\u001b[38;5;124mutc\u001b[39m\u001b[38;5;124m\"\u001b[39m\n\u001b[0;32m--> 459\u001b[0m     result, tz_parsed \u001b[38;5;241m=\u001b[39m \u001b[43mobjects_to_datetime64ns\u001b[49m\u001b[43m(\u001b[49m\n\u001b[1;32m    460\u001b[0m \u001b[43m        \u001b[49m\u001b[43marg\u001b[49m\u001b[43m,\u001b[49m\n\u001b[1;32m    461\u001b[0m \u001b[43m        \u001b[49m\u001b[43mdayfirst\u001b[49m\u001b[38;5;241;43m=\u001b[39;49m\u001b[43mdayfirst\u001b[49m\u001b[43m,\u001b[49m\n\u001b[1;32m    462\u001b[0m \u001b[43m        \u001b[49m\u001b[43myearfirst\u001b[49m\u001b[38;5;241;43m=\u001b[39;49m\u001b[43myearfirst\u001b[49m\u001b[43m,\u001b[49m\n\u001b[1;32m    463\u001b[0m \u001b[43m        \u001b[49m\u001b[43mutc\u001b[49m\u001b[38;5;241;43m=\u001b[39;49m\u001b[43mutc\u001b[49m\u001b[43m,\u001b[49m\n\u001b[1;32m    464\u001b[0m \u001b[43m        \u001b[49m\u001b[43merrors\u001b[49m\u001b[38;5;241;43m=\u001b[39;49m\u001b[43merrors\u001b[49m\u001b[43m,\u001b[49m\n\u001b[1;32m    465\u001b[0m \u001b[43m        \u001b[49m\u001b[43mrequire_iso8601\u001b[49m\u001b[38;5;241;43m=\u001b[39;49m\u001b[43mrequire_iso8601\u001b[49m\u001b[43m,\u001b[49m\n\u001b[1;32m    466\u001b[0m \u001b[43m        \u001b[49m\u001b[43mallow_object\u001b[49m\u001b[38;5;241;43m=\u001b[39;49m\u001b[38;5;28;43;01mTrue\u001b[39;49;00m\u001b[43m,\u001b[49m\n\u001b[1;32m    467\u001b[0m \u001b[43m    \u001b[49m\u001b[43m)\u001b[49m\n\u001b[1;32m    469\u001b[0m \u001b[38;5;28;01mif\u001b[39;00m tz_parsed \u001b[38;5;129;01mis\u001b[39;00m \u001b[38;5;129;01mnot\u001b[39;00m \u001b[38;5;28;01mNone\u001b[39;00m:\n\u001b[1;32m    470\u001b[0m     \u001b[38;5;66;03m# We can take a shortcut since the datetime64 numpy array\u001b[39;00m\n\u001b[1;32m    471\u001b[0m     \u001b[38;5;66;03m# is in UTC\u001b[39;00m\n\u001b[1;32m    472\u001b[0m     dta \u001b[38;5;241m=\u001b[39m DatetimeArray(result, dtype\u001b[38;5;241m=\u001b[39mtz_to_dtype(tz_parsed))\n",
      "File \u001b[0;32m~/opt/anaconda3/lib/python3.8/site-packages/pandas/core/arrays/datetimes.py:2059\u001b[0m, in \u001b[0;36mobjects_to_datetime64ns\u001b[0;34m(data, dayfirst, yearfirst, utc, errors, require_iso8601, allow_object)\u001b[0m\n\u001b[1;32m   2057\u001b[0m         \u001b[38;5;28;01mreturn\u001b[39;00m values\u001b[38;5;241m.\u001b[39mview(\u001b[38;5;124m\"\u001b[39m\u001b[38;5;124mi8\u001b[39m\u001b[38;5;124m\"\u001b[39m), tz_parsed\n\u001b[1;32m   2058\u001b[0m     \u001b[38;5;28;01mexcept\u001b[39;00m (\u001b[38;5;167;01mValueError\u001b[39;00m, \u001b[38;5;167;01mTypeError\u001b[39;00m):\n\u001b[0;32m-> 2059\u001b[0m         \u001b[38;5;28;01mraise\u001b[39;00m e\n\u001b[1;32m   2061\u001b[0m \u001b[38;5;28;01mif\u001b[39;00m tz_parsed \u001b[38;5;129;01mis\u001b[39;00m \u001b[38;5;129;01mnot\u001b[39;00m \u001b[38;5;28;01mNone\u001b[39;00m:\n\u001b[1;32m   2062\u001b[0m     \u001b[38;5;66;03m# We can take a shortcut since the datetime64 numpy array\u001b[39;00m\n\u001b[1;32m   2063\u001b[0m     \u001b[38;5;66;03m#  is in UTC\u001b[39;00m\n\u001b[1;32m   2064\u001b[0m     \u001b[38;5;66;03m# Return i8 values to denote unix timestamps\u001b[39;00m\n\u001b[1;32m   2065\u001b[0m     \u001b[38;5;28;01mreturn\u001b[39;00m result\u001b[38;5;241m.\u001b[39mview(\u001b[38;5;124m\"\u001b[39m\u001b[38;5;124mi8\u001b[39m\u001b[38;5;124m\"\u001b[39m), tz_parsed\n",
      "File \u001b[0;32m~/opt/anaconda3/lib/python3.8/site-packages/pandas/core/arrays/datetimes.py:2044\u001b[0m, in \u001b[0;36mobjects_to_datetime64ns\u001b[0;34m(data, dayfirst, yearfirst, utc, errors, require_iso8601, allow_object)\u001b[0m\n\u001b[1;32m   2041\u001b[0m data \u001b[38;5;241m=\u001b[39m np\u001b[38;5;241m.\u001b[39marray(data, copy\u001b[38;5;241m=\u001b[39m\u001b[38;5;28;01mFalse\u001b[39;00m, dtype\u001b[38;5;241m=\u001b[39mnp\u001b[38;5;241m.\u001b[39mobject_)\n\u001b[1;32m   2043\u001b[0m \u001b[38;5;28;01mtry\u001b[39;00m:\n\u001b[0;32m-> 2044\u001b[0m     result, tz_parsed \u001b[38;5;241m=\u001b[39m \u001b[43mtslib\u001b[49m\u001b[38;5;241;43m.\u001b[39;49m\u001b[43marray_to_datetime\u001b[49m\u001b[43m(\u001b[49m\n\u001b[1;32m   2045\u001b[0m \u001b[43m        \u001b[49m\u001b[43mdata\u001b[49m\u001b[43m,\u001b[49m\n\u001b[1;32m   2046\u001b[0m \u001b[43m        \u001b[49m\u001b[43merrors\u001b[49m\u001b[38;5;241;43m=\u001b[39;49m\u001b[43merrors\u001b[49m\u001b[43m,\u001b[49m\n\u001b[1;32m   2047\u001b[0m \u001b[43m        \u001b[49m\u001b[43mutc\u001b[49m\u001b[38;5;241;43m=\u001b[39;49m\u001b[43mutc\u001b[49m\u001b[43m,\u001b[49m\n\u001b[1;32m   2048\u001b[0m \u001b[43m        \u001b[49m\u001b[43mdayfirst\u001b[49m\u001b[38;5;241;43m=\u001b[39;49m\u001b[43mdayfirst\u001b[49m\u001b[43m,\u001b[49m\n\u001b[1;32m   2049\u001b[0m \u001b[43m        \u001b[49m\u001b[43myearfirst\u001b[49m\u001b[38;5;241;43m=\u001b[39;49m\u001b[43myearfirst\u001b[49m\u001b[43m,\u001b[49m\n\u001b[1;32m   2050\u001b[0m \u001b[43m        \u001b[49m\u001b[43mrequire_iso8601\u001b[49m\u001b[38;5;241;43m=\u001b[39;49m\u001b[43mrequire_iso8601\u001b[49m\u001b[43m,\u001b[49m\n\u001b[1;32m   2051\u001b[0m \u001b[43m    \u001b[49m\u001b[43m)\u001b[49m\n\u001b[1;32m   2052\u001b[0m \u001b[38;5;28;01mexcept\u001b[39;00m \u001b[38;5;167;01mValueError\u001b[39;00m \u001b[38;5;28;01mas\u001b[39;00m e:\n\u001b[1;32m   2053\u001b[0m     \u001b[38;5;28;01mtry\u001b[39;00m:\n",
      "File \u001b[0;32mpandas/_libs/tslib.pyx:352\u001b[0m, in \u001b[0;36mpandas._libs.tslib.array_to_datetime\u001b[0;34m()\u001b[0m\n",
      "File \u001b[0;32mpandas/_libs/tslib.pyx:574\u001b[0m, in \u001b[0;36mpandas._libs.tslib.array_to_datetime\u001b[0;34m()\u001b[0m\n",
      "File \u001b[0;32mpandas/_libs/tslib.pyx:570\u001b[0m, in \u001b[0;36mpandas._libs.tslib.array_to_datetime\u001b[0;34m()\u001b[0m\n",
      "File \u001b[0;32mpandas/_libs/tslib.pyx:525\u001b[0m, in \u001b[0;36mpandas._libs.tslib.array_to_datetime\u001b[0;34m()\u001b[0m\n",
      "File \u001b[0;32mpandas/_libs/tslibs/conversion.pyx:507\u001b[0m, in \u001b[0;36mpandas._libs.tslibs.conversion.convert_datetime_to_tsobject\u001b[0;34m()\u001b[0m\n",
      "File \u001b[0;32mpandas/_libs/tslibs/np_datetime.pyx:113\u001b[0m, in \u001b[0;36mpandas._libs.tslibs.np_datetime.check_dts_bounds\u001b[0;34m()\u001b[0m\n",
      "\u001b[0;31mOutOfBoundsDatetime\u001b[0m: Out of bounds nanosecond timestamp: 1-01-03 00:00:00"
     ]
    }
   ],
   "source": [
    "sales['Month_Year'] = pd.to_datetime(sales.Month_Year)"
   ]
  },
  {
   "cell_type": "code",
   "execution_count": 8,
   "metadata": {},
   "outputs": [],
   "source": [
    "sales['Month_Year'] = pd.to_datetime(sales.Month_Year, format='%b-%y')"
   ]
  },
  {
   "cell_type": "code",
   "execution_count": 10,
   "metadata": {},
   "outputs": [
    {
     "name": "stdout",
     "output_type": "stream",
     "text": [
      "<class 'pandas.core.frame.DataFrame'>\n",
      "RangeIndex: 144 entries, 0 to 143\n",
      "Data columns (total 2 columns):\n",
      " #   Column            Non-Null Count  Dtype         \n",
      "---  ------            --------------  -----         \n",
      " 0   Month_Year        144 non-null    datetime64[ns]\n",
      " 1   No_Tractors_Sold  144 non-null    int64         \n",
      "dtypes: datetime64[ns](1), int64(1)\n",
      "memory usage: 2.4 KB\n"
     ]
    }
   ],
   "source": [
    "sales.info()"
   ]
  },
  {
   "cell_type": "code",
   "execution_count": 11,
   "metadata": {},
   "outputs": [],
   "source": [
    "sales.set_index(sales.Month_Year, inplace=True)"
   ]
  },
  {
   "cell_type": "code",
   "execution_count": 12,
   "metadata": {},
   "outputs": [
    {
     "name": "stdout",
     "output_type": "stream",
     "text": [
      "<class 'pandas.core.frame.DataFrame'>\n",
      "DatetimeIndex: 144 entries, 2003-01-01 to 2014-12-01\n",
      "Data columns (total 2 columns):\n",
      " #   Column            Non-Null Count  Dtype         \n",
      "---  ------            --------------  -----         \n",
      " 0   Month_Year        144 non-null    datetime64[ns]\n",
      " 1   No_Tractors_Sold  144 non-null    int64         \n",
      "dtypes: datetime64[ns](1), int64(1)\n",
      "memory usage: 3.4 KB\n"
     ]
    }
   ],
   "source": [
    "sales.info()"
   ]
  },
  {
   "cell_type": "code",
   "execution_count": 13,
   "metadata": {},
   "outputs": [
    {
     "data": {
      "text/html": [
       "<div>\n",
       "<style scoped>\n",
       "    .dataframe tbody tr th:only-of-type {\n",
       "        vertical-align: middle;\n",
       "    }\n",
       "\n",
       "    .dataframe tbody tr th {\n",
       "        vertical-align: top;\n",
       "    }\n",
       "\n",
       "    .dataframe thead th {\n",
       "        text-align: right;\n",
       "    }\n",
       "</style>\n",
       "<table border=\"1\" class=\"dataframe\">\n",
       "  <thead>\n",
       "    <tr style=\"text-align: right;\">\n",
       "      <th></th>\n",
       "      <th>Month_Year</th>\n",
       "      <th>No_Tractors_Sold</th>\n",
       "    </tr>\n",
       "    <tr>\n",
       "      <th>Month_Year</th>\n",
       "      <th></th>\n",
       "      <th></th>\n",
       "    </tr>\n",
       "  </thead>\n",
       "  <tbody>\n",
       "    <tr>\n",
       "      <th>2003-01-01</th>\n",
       "      <td>2003-01-01</td>\n",
       "      <td>141</td>\n",
       "    </tr>\n",
       "    <tr>\n",
       "      <th>2003-02-01</th>\n",
       "      <td>2003-02-01</td>\n",
       "      <td>157</td>\n",
       "    </tr>\n",
       "    <tr>\n",
       "      <th>2003-03-01</th>\n",
       "      <td>2003-03-01</td>\n",
       "      <td>185</td>\n",
       "    </tr>\n",
       "    <tr>\n",
       "      <th>2003-04-01</th>\n",
       "      <td>2003-04-01</td>\n",
       "      <td>199</td>\n",
       "    </tr>\n",
       "    <tr>\n",
       "      <th>2003-05-01</th>\n",
       "      <td>2003-05-01</td>\n",
       "      <td>203</td>\n",
       "    </tr>\n",
       "    <tr>\n",
       "      <th>...</th>\n",
       "      <td>...</td>\n",
       "      <td>...</td>\n",
       "    </tr>\n",
       "    <tr>\n",
       "      <th>2014-08-01</th>\n",
       "      <td>2014-08-01</td>\n",
       "      <td>848</td>\n",
       "    </tr>\n",
       "    <tr>\n",
       "      <th>2014-09-01</th>\n",
       "      <td>2014-09-01</td>\n",
       "      <td>640</td>\n",
       "    </tr>\n",
       "    <tr>\n",
       "      <th>2014-10-01</th>\n",
       "      <td>2014-10-01</td>\n",
       "      <td>581</td>\n",
       "    </tr>\n",
       "    <tr>\n",
       "      <th>2014-11-01</th>\n",
       "      <td>2014-11-01</td>\n",
       "      <td>519</td>\n",
       "    </tr>\n",
       "    <tr>\n",
       "      <th>2014-12-01</th>\n",
       "      <td>2014-12-01</td>\n",
       "      <td>605</td>\n",
       "    </tr>\n",
       "  </tbody>\n",
       "</table>\n",
       "<p>144 rows × 2 columns</p>\n",
       "</div>"
      ],
      "text/plain": [
       "           Month_Year  No_Tractors_Sold\n",
       "Month_Year                             \n",
       "2003-01-01 2003-01-01               141\n",
       "2003-02-01 2003-02-01               157\n",
       "2003-03-01 2003-03-01               185\n",
       "2003-04-01 2003-04-01               199\n",
       "2003-05-01 2003-05-01               203\n",
       "...               ...               ...\n",
       "2014-08-01 2014-08-01               848\n",
       "2014-09-01 2014-09-01               640\n",
       "2014-10-01 2014-10-01               581\n",
       "2014-11-01 2014-11-01               519\n",
       "2014-12-01 2014-12-01               605\n",
       "\n",
       "[144 rows x 2 columns]"
      ]
     },
     "execution_count": 13,
     "metadata": {},
     "output_type": "execute_result"
    }
   ],
   "source": [
    "sales"
   ]
  },
  {
   "cell_type": "code",
   "execution_count": 14,
   "metadata": {},
   "outputs": [],
   "source": [
    "sales['year'] = sales.Month_Year.dt.year\n",
    "sales['month'] = sales.Month_Year.dt.month"
   ]
  },
  {
   "cell_type": "code",
   "execution_count": 15,
   "metadata": {},
   "outputs": [
    {
     "data": {
      "text/html": [
       "<div>\n",
       "<style scoped>\n",
       "    .dataframe tbody tr th:only-of-type {\n",
       "        vertical-align: middle;\n",
       "    }\n",
       "\n",
       "    .dataframe tbody tr th {\n",
       "        vertical-align: top;\n",
       "    }\n",
       "\n",
       "    .dataframe thead th {\n",
       "        text-align: right;\n",
       "    }\n",
       "</style>\n",
       "<table border=\"1\" class=\"dataframe\">\n",
       "  <thead>\n",
       "    <tr style=\"text-align: right;\">\n",
       "      <th></th>\n",
       "      <th>Month_Year</th>\n",
       "      <th>No_Tractors_Sold</th>\n",
       "      <th>year</th>\n",
       "      <th>month</th>\n",
       "    </tr>\n",
       "    <tr>\n",
       "      <th>Month_Year</th>\n",
       "      <th></th>\n",
       "      <th></th>\n",
       "      <th></th>\n",
       "      <th></th>\n",
       "    </tr>\n",
       "  </thead>\n",
       "  <tbody>\n",
       "    <tr>\n",
       "      <th>2003-01-01</th>\n",
       "      <td>2003-01-01</td>\n",
       "      <td>141</td>\n",
       "      <td>2003</td>\n",
       "      <td>1</td>\n",
       "    </tr>\n",
       "    <tr>\n",
       "      <th>2003-02-01</th>\n",
       "      <td>2003-02-01</td>\n",
       "      <td>157</td>\n",
       "      <td>2003</td>\n",
       "      <td>2</td>\n",
       "    </tr>\n",
       "    <tr>\n",
       "      <th>2003-03-01</th>\n",
       "      <td>2003-03-01</td>\n",
       "      <td>185</td>\n",
       "      <td>2003</td>\n",
       "      <td>3</td>\n",
       "    </tr>\n",
       "    <tr>\n",
       "      <th>2003-04-01</th>\n",
       "      <td>2003-04-01</td>\n",
       "      <td>199</td>\n",
       "      <td>2003</td>\n",
       "      <td>4</td>\n",
       "    </tr>\n",
       "    <tr>\n",
       "      <th>2003-05-01</th>\n",
       "      <td>2003-05-01</td>\n",
       "      <td>203</td>\n",
       "      <td>2003</td>\n",
       "      <td>5</td>\n",
       "    </tr>\n",
       "  </tbody>\n",
       "</table>\n",
       "</div>"
      ],
      "text/plain": [
       "           Month_Year  No_Tractors_Sold  year  month\n",
       "Month_Year                                          \n",
       "2003-01-01 2003-01-01               141  2003      1\n",
       "2003-02-01 2003-02-01               157  2003      2\n",
       "2003-03-01 2003-03-01               185  2003      3\n",
       "2003-04-01 2003-04-01               199  2003      4\n",
       "2003-05-01 2003-05-01               203  2003      5"
      ]
     },
     "execution_count": 15,
     "metadata": {},
     "output_type": "execute_result"
    }
   ],
   "source": [
    "sales.head()"
   ]
  },
  {
   "cell_type": "code",
   "execution_count": 16,
   "metadata": {},
   "outputs": [],
   "source": [
    "ts = sales.No_Tractors_Sold"
   ]
  },
  {
   "cell_type": "code",
   "execution_count": 18,
   "metadata": {},
   "outputs": [
    {
     "data": {
      "text/plain": [
       "Month_Year\n",
       "2003-01-01    141\n",
       "2003-02-01    157\n",
       "2003-03-01    185\n",
       "2003-04-01    199\n",
       "2003-05-01    203\n",
       "             ... \n",
       "2014-08-01    848\n",
       "2014-09-01    640\n",
       "2014-10-01    581\n",
       "2014-11-01    519\n",
       "2014-12-01    605\n",
       "Name: No_Tractors_Sold, Length: 144, dtype: int64"
      ]
     },
     "execution_count": 18,
     "metadata": {},
     "output_type": "execute_result"
    }
   ],
   "source": [
    "ts"
   ]
  },
  {
   "cell_type": "code",
   "execution_count": 19,
   "metadata": {},
   "outputs": [
    {
     "data": {
      "text/plain": [
       "pandas.core.series.Series"
      ]
     },
     "execution_count": 19,
     "metadata": {},
     "output_type": "execute_result"
    }
   ],
   "source": [
    "type(ts)"
   ]
  },
  {
   "cell_type": "code",
   "execution_count": 20,
   "metadata": {},
   "outputs": [
    {
     "data": {
      "text/plain": [
       "<AxesSubplot:xlabel='Month_Year'>"
      ]
     },
     "execution_count": 20,
     "metadata": {},
     "output_type": "execute_result"
    },
    {
     "data": {
      "image/png": "[encoded data removed]",
      "text/plain": [
       "<Figure size 432x288 with 1 Axes>"
      ]
     },
     "metadata": {
      "needs_background": "light"
     },
     "output_type": "display_data"
    }
   ],
   "source": [
    "ts.plot()"
   ]
  },
  {
   "cell_type": "raw",
   "metadata": {},
   "source": [
    "pd.pivot_table?"
   ]
  },
  {
   "cell_type": "code",
   "execution_count": 21,
   "metadata": {},
   "outputs": [
    {
     "data": {
      "text/html": [
       "<div>\n",
       "<style scoped>\n",
       "    .dataframe tbody tr th:only-of-type {\n",
       "        vertical-align: middle;\n",
       "    }\n",
       "\n",
       "    .dataframe tbody tr th {\n",
       "        vertical-align: top;\n",
       "    }\n",
       "\n",
       "    .dataframe thead th {\n",
       "        text-align: right;\n",
       "    }\n",
       "</style>\n",
       "<table border=\"1\" class=\"dataframe\">\n",
       "  <thead>\n",
       "    <tr style=\"text-align: right;\">\n",
       "      <th>month</th>\n",
       "      <th>1</th>\n",
       "      <th>2</th>\n",
       "      <th>3</th>\n",
       "      <th>4</th>\n",
       "      <th>5</th>\n",
       "      <th>6</th>\n",
       "      <th>7</th>\n",
       "      <th>8</th>\n",
       "      <th>9</th>\n",
       "      <th>10</th>\n",
       "      <th>11</th>\n",
       "      <th>12</th>\n",
       "    </tr>\n",
       "    <tr>\n",
       "      <th>year</th>\n",
       "      <th></th>\n",
       "      <th></th>\n",
       "      <th></th>\n",
       "      <th></th>\n",
       "      <th></th>\n",
       "      <th></th>\n",
       "      <th></th>\n",
       "      <th></th>\n",
       "      <th></th>\n",
       "      <th></th>\n",
       "      <th></th>\n",
       "      <th></th>\n",
       "    </tr>\n",
       "  </thead>\n",
       "  <tbody>\n",
       "    <tr>\n",
       "      <th>2003</th>\n",
       "      <td>141</td>\n",
       "      <td>157</td>\n",
       "      <td>185</td>\n",
       "      <td>199</td>\n",
       "      <td>203</td>\n",
       "      <td>189</td>\n",
       "      <td>207</td>\n",
       "      <td>207</td>\n",
       "      <td>171</td>\n",
       "      <td>150</td>\n",
       "      <td>138</td>\n",
       "      <td>165</td>\n",
       "    </tr>\n",
       "    <tr>\n",
       "      <th>2004</th>\n",
       "      <td>145</td>\n",
       "      <td>168</td>\n",
       "      <td>197</td>\n",
       "      <td>208</td>\n",
       "      <td>210</td>\n",
       "      <td>209</td>\n",
       "      <td>238</td>\n",
       "      <td>238</td>\n",
       "      <td>199</td>\n",
       "      <td>168</td>\n",
       "      <td>152</td>\n",
       "      <td>196</td>\n",
       "    </tr>\n",
       "    <tr>\n",
       "      <th>2005</th>\n",
       "      <td>183</td>\n",
       "      <td>200</td>\n",
       "      <td>249</td>\n",
       "      <td>251</td>\n",
       "      <td>289</td>\n",
       "      <td>249</td>\n",
       "      <td>279</td>\n",
       "      <td>279</td>\n",
       "      <td>232</td>\n",
       "      <td>204</td>\n",
       "      <td>194</td>\n",
       "      <td>232</td>\n",
       "    </tr>\n",
       "    <tr>\n",
       "      <th>2006</th>\n",
       "      <td>215</td>\n",
       "      <td>239</td>\n",
       "      <td>270</td>\n",
       "      <td>279</td>\n",
       "      <td>307</td>\n",
       "      <td>305</td>\n",
       "      <td>322</td>\n",
       "      <td>339</td>\n",
       "      <td>263</td>\n",
       "      <td>241</td>\n",
       "      <td>229</td>\n",
       "      <td>272</td>\n",
       "    </tr>\n",
       "    <tr>\n",
       "      <th>2007</th>\n",
       "      <td>247</td>\n",
       "      <td>261</td>\n",
       "      <td>330</td>\n",
       "      <td>362</td>\n",
       "      <td>385</td>\n",
       "      <td>340</td>\n",
       "      <td>370</td>\n",
       "      <td>381</td>\n",
       "      <td>299</td>\n",
       "      <td>266</td>\n",
       "      <td>239</td>\n",
       "      <td>281</td>\n",
       "    </tr>\n",
       "    <tr>\n",
       "      <th>2008</th>\n",
       "      <td>257</td>\n",
       "      <td>250</td>\n",
       "      <td>329</td>\n",
       "      <td>350</td>\n",
       "      <td>393</td>\n",
       "      <td>370</td>\n",
       "      <td>423</td>\n",
       "      <td>410</td>\n",
       "      <td>326</td>\n",
       "      <td>289</td>\n",
       "      <td>270</td>\n",
       "      <td>321</td>\n",
       "    </tr>\n",
       "    <tr>\n",
       "      <th>2009</th>\n",
       "      <td>305</td>\n",
       "      <td>310</td>\n",
       "      <td>374</td>\n",
       "      <td>414</td>\n",
       "      <td>454</td>\n",
       "      <td>441</td>\n",
       "      <td>510</td>\n",
       "      <td>486</td>\n",
       "      <td>393</td>\n",
       "      <td>345</td>\n",
       "      <td>315</td>\n",
       "      <td>389</td>\n",
       "    </tr>\n",
       "    <tr>\n",
       "      <th>2010</th>\n",
       "      <td>358</td>\n",
       "      <td>368</td>\n",
       "      <td>444</td>\n",
       "      <td>482</td>\n",
       "      <td>534</td>\n",
       "      <td>524</td>\n",
       "      <td>578</td>\n",
       "      <td>567</td>\n",
       "      <td>447</td>\n",
       "      <td>386</td>\n",
       "      <td>360</td>\n",
       "      <td>428</td>\n",
       "    </tr>\n",
       "    <tr>\n",
       "      <th>2011</th>\n",
       "      <td>397</td>\n",
       "      <td>400</td>\n",
       "      <td>498</td>\n",
       "      <td>536</td>\n",
       "      <td>596</td>\n",
       "      <td>591</td>\n",
       "      <td>651</td>\n",
       "      <td>654</td>\n",
       "      <td>509</td>\n",
       "      <td>437</td>\n",
       "      <td>406</td>\n",
       "      <td>470</td>\n",
       "    </tr>\n",
       "    <tr>\n",
       "      <th>2012</th>\n",
       "      <td>428</td>\n",
       "      <td>423</td>\n",
       "      <td>507</td>\n",
       "      <td>536</td>\n",
       "      <td>610</td>\n",
       "      <td>609</td>\n",
       "      <td>687</td>\n",
       "      <td>707</td>\n",
       "      <td>509</td>\n",
       "      <td>452</td>\n",
       "      <td>412</td>\n",
       "      <td>472</td>\n",
       "    </tr>\n",
       "    <tr>\n",
       "      <th>2013</th>\n",
       "      <td>454</td>\n",
       "      <td>455</td>\n",
       "      <td>568</td>\n",
       "      <td>610</td>\n",
       "      <td>706</td>\n",
       "      <td>661</td>\n",
       "      <td>767</td>\n",
       "      <td>783</td>\n",
       "      <td>583</td>\n",
       "      <td>513</td>\n",
       "      <td>481</td>\n",
       "      <td>567</td>\n",
       "    </tr>\n",
       "    <tr>\n",
       "      <th>2014</th>\n",
       "      <td>525</td>\n",
       "      <td>520</td>\n",
       "      <td>587</td>\n",
       "      <td>710</td>\n",
       "      <td>793</td>\n",
       "      <td>749</td>\n",
       "      <td>871</td>\n",
       "      <td>848</td>\n",
       "      <td>640</td>\n",
       "      <td>581</td>\n",
       "      <td>519</td>\n",
       "      <td>605</td>\n",
       "    </tr>\n",
       "  </tbody>\n",
       "</table>\n",
       "</div>"
      ],
      "text/plain": [
       "month   1    2    3    4    5    6    7    8    9    10   11   12\n",
       "year                                                             \n",
       "2003   141  157  185  199  203  189  207  207  171  150  138  165\n",
       "2004   145  168  197  208  210  209  238  238  199  168  152  196\n",
       "2005   183  200  249  251  289  249  279  279  232  204  194  232\n",
       "2006   215  239  270  279  307  305  322  339  263  241  229  272\n",
       "2007   247  261  330  362  385  340  370  381  299  266  239  281\n",
       "2008   257  250  329  350  393  370  423  410  326  289  270  321\n",
       "2009   305  310  374  414  454  441  510  486  393  345  315  389\n",
       "2010   358  368  444  482  534  524  578  567  447  386  360  428\n",
       "2011   397  400  498  536  596  591  651  654  509  437  406  470\n",
       "2012   428  423  507  536  610  609  687  707  509  452  412  472\n",
       "2013   454  455  568  610  706  661  767  783  583  513  481  567\n",
       "2014   525  520  587  710  793  749  871  848  640  581  519  605"
      ]
     },
     "execution_count": 21,
     "metadata": {},
     "output_type": "execute_result"
    }
   ],
   "source": [
    "pd.pivot_table(data = sales, index = 'year', columns = 'month', values = 'No_Tractors_Sold')"
   ]
  },
  {
   "cell_type": "code",
   "execution_count": 22,
   "metadata": {},
   "outputs": [
    {
     "data": {
      "text/plain": [
       "<AxesSubplot:xlabel='year'>"
      ]
     },
     "execution_count": 22,
     "metadata": {},
     "output_type": "execute_result"
    },
    {
     "data": {
      "image/png": "[encoded data removed]",
      "text/plain": [
       "<Figure size 432x288 with 1 Axes>"
      ]
     },
     "metadata": {
      "needs_background": "light"
     },
     "output_type": "display_data"
    }
   ],
   "source": [
    "#Long to wide data\n",
    "pd.pivot_table(data = sales, index = 'year', columns = 'month', values = 'No_Tractors_Sold').plot(legend=False)"
   ]
  },
  {
   "cell_type": "code",
   "execution_count": 23,
   "metadata": {},
   "outputs": [
    {
     "data": {
      "text/html": [
       "<div>\n",
       "<style scoped>\n",
       "    .dataframe tbody tr th:only-of-type {\n",
       "        vertical-align: middle;\n",
       "    }\n",
       "\n",
       "    .dataframe tbody tr th {\n",
       "        vertical-align: top;\n",
       "    }\n",
       "\n",
       "    .dataframe thead th {\n",
       "        text-align: right;\n",
       "    }\n",
       "</style>\n",
       "<table border=\"1\" class=\"dataframe\">\n",
       "  <thead>\n",
       "    <tr style=\"text-align: right;\">\n",
       "      <th>year</th>\n",
       "      <th>2003</th>\n",
       "      <th>2004</th>\n",
       "      <th>2005</th>\n",
       "      <th>2006</th>\n",
       "      <th>2007</th>\n",
       "      <th>2008</th>\n",
       "      <th>2009</th>\n",
       "      <th>2010</th>\n",
       "      <th>2011</th>\n",
       "      <th>2012</th>\n",
       "      <th>2013</th>\n",
       "      <th>2014</th>\n",
       "    </tr>\n",
       "    <tr>\n",
       "      <th>month</th>\n",
       "      <th></th>\n",
       "      <th></th>\n",
       "      <th></th>\n",
       "      <th></th>\n",
       "      <th></th>\n",
       "      <th></th>\n",
       "      <th></th>\n",
       "      <th></th>\n",
       "      <th></th>\n",
       "      <th></th>\n",
       "      <th></th>\n",
       "      <th></th>\n",
       "    </tr>\n",
       "  </thead>\n",
       "  <tbody>\n",
       "    <tr>\n",
       "      <th>1</th>\n",
       "      <td>141</td>\n",
       "      <td>145</td>\n",
       "      <td>183</td>\n",
       "      <td>215</td>\n",
       "      <td>247</td>\n",
       "      <td>257</td>\n",
       "      <td>305</td>\n",
       "      <td>358</td>\n",
       "      <td>397</td>\n",
       "      <td>428</td>\n",
       "      <td>454</td>\n",
       "      <td>525</td>\n",
       "    </tr>\n",
       "    <tr>\n",
       "      <th>2</th>\n",
       "      <td>157</td>\n",
       "      <td>168</td>\n",
       "      <td>200</td>\n",
       "      <td>239</td>\n",
       "      <td>261</td>\n",
       "      <td>250</td>\n",
       "      <td>310</td>\n",
       "      <td>368</td>\n",
       "      <td>400</td>\n",
       "      <td>423</td>\n",
       "      <td>455</td>\n",
       "      <td>520</td>\n",
       "    </tr>\n",
       "    <tr>\n",
       "      <th>3</th>\n",
       "      <td>185</td>\n",
       "      <td>197</td>\n",
       "      <td>249</td>\n",
       "      <td>270</td>\n",
       "      <td>330</td>\n",
       "      <td>329</td>\n",
       "      <td>374</td>\n",
       "      <td>444</td>\n",
       "      <td>498</td>\n",
       "      <td>507</td>\n",
       "      <td>568</td>\n",
       "      <td>587</td>\n",
       "    </tr>\n",
       "    <tr>\n",
       "      <th>4</th>\n",
       "      <td>199</td>\n",
       "      <td>208</td>\n",
       "      <td>251</td>\n",
       "      <td>279</td>\n",
       "      <td>362</td>\n",
       "      <td>350</td>\n",
       "      <td>414</td>\n",
       "      <td>482</td>\n",
       "      <td>536</td>\n",
       "      <td>536</td>\n",
       "      <td>610</td>\n",
       "      <td>710</td>\n",
       "    </tr>\n",
       "    <tr>\n",
       "      <th>5</th>\n",
       "      <td>203</td>\n",
       "      <td>210</td>\n",
       "      <td>289</td>\n",
       "      <td>307</td>\n",
       "      <td>385</td>\n",
       "      <td>393</td>\n",
       "      <td>454</td>\n",
       "      <td>534</td>\n",
       "      <td>596</td>\n",
       "      <td>610</td>\n",
       "      <td>706</td>\n",
       "      <td>793</td>\n",
       "    </tr>\n",
       "    <tr>\n",
       "      <th>6</th>\n",
       "      <td>189</td>\n",
       "      <td>209</td>\n",
       "      <td>249</td>\n",
       "      <td>305</td>\n",
       "      <td>340</td>\n",
       "      <td>370</td>\n",
       "      <td>441</td>\n",
       "      <td>524</td>\n",
       "      <td>591</td>\n",
       "      <td>609</td>\n",
       "      <td>661</td>\n",
       "      <td>749</td>\n",
       "    </tr>\n",
       "    <tr>\n",
       "      <th>7</th>\n",
       "      <td>207</td>\n",
       "      <td>238</td>\n",
       "      <td>279</td>\n",
       "      <td>322</td>\n",
       "      <td>370</td>\n",
       "      <td>423</td>\n",
       "      <td>510</td>\n",
       "      <td>578</td>\n",
       "      <td>651</td>\n",
       "      <td>687</td>\n",
       "      <td>767</td>\n",
       "      <td>871</td>\n",
       "    </tr>\n",
       "    <tr>\n",
       "      <th>8</th>\n",
       "      <td>207</td>\n",
       "      <td>238</td>\n",
       "      <td>279</td>\n",
       "      <td>339</td>\n",
       "      <td>381</td>\n",
       "      <td>410</td>\n",
       "      <td>486</td>\n",
       "      <td>567</td>\n",
       "      <td>654</td>\n",
       "      <td>707</td>\n",
       "      <td>783</td>\n",
       "      <td>848</td>\n",
       "    </tr>\n",
       "    <tr>\n",
       "      <th>9</th>\n",
       "      <td>171</td>\n",
       "      <td>199</td>\n",
       "      <td>232</td>\n",
       "      <td>263</td>\n",
       "      <td>299</td>\n",
       "      <td>326</td>\n",
       "      <td>393</td>\n",
       "      <td>447</td>\n",
       "      <td>509</td>\n",
       "      <td>509</td>\n",
       "      <td>583</td>\n",
       "      <td>640</td>\n",
       "    </tr>\n",
       "    <tr>\n",
       "      <th>10</th>\n",
       "      <td>150</td>\n",
       "      <td>168</td>\n",
       "      <td>204</td>\n",
       "      <td>241</td>\n",
       "      <td>266</td>\n",
       "      <td>289</td>\n",
       "      <td>345</td>\n",
       "      <td>386</td>\n",
       "      <td>437</td>\n",
       "      <td>452</td>\n",
       "      <td>513</td>\n",
       "      <td>581</td>\n",
       "    </tr>\n",
       "    <tr>\n",
       "      <th>11</th>\n",
       "      <td>138</td>\n",
       "      <td>152</td>\n",
       "      <td>194</td>\n",
       "      <td>229</td>\n",
       "      <td>239</td>\n",
       "      <td>270</td>\n",
       "      <td>315</td>\n",
       "      <td>360</td>\n",
       "      <td>406</td>\n",
       "      <td>412</td>\n",
       "      <td>481</td>\n",
       "      <td>519</td>\n",
       "    </tr>\n",
       "    <tr>\n",
       "      <th>12</th>\n",
       "      <td>165</td>\n",
       "      <td>196</td>\n",
       "      <td>232</td>\n",
       "      <td>272</td>\n",
       "      <td>281</td>\n",
       "      <td>321</td>\n",
       "      <td>389</td>\n",
       "      <td>428</td>\n",
       "      <td>470</td>\n",
       "      <td>472</td>\n",
       "      <td>567</td>\n",
       "      <td>605</td>\n",
       "    </tr>\n",
       "  </tbody>\n",
       "</table>\n",
       "</div>"
      ],
      "text/plain": [
       "year   2003  2004  2005  2006  2007  2008  2009  2010  2011  2012  2013  2014\n",
       "month                                                                        \n",
       "1       141   145   183   215   247   257   305   358   397   428   454   525\n",
       "2       157   168   200   239   261   250   310   368   400   423   455   520\n",
       "3       185   197   249   270   330   329   374   444   498   507   568   587\n",
       "4       199   208   251   279   362   350   414   482   536   536   610   710\n",
       "5       203   210   289   307   385   393   454   534   596   610   706   793\n",
       "6       189   209   249   305   340   370   441   524   591   609   661   749\n",
       "7       207   238   279   322   370   423   510   578   651   687   767   871\n",
       "8       207   238   279   339   381   410   486   567   654   707   783   848\n",
       "9       171   199   232   263   299   326   393   447   509   509   583   640\n",
       "10      150   168   204   241   266   289   345   386   437   452   513   581\n",
       "11      138   152   194   229   239   270   315   360   406   412   481   519\n",
       "12      165   196   232   272   281   321   389   428   470   472   567   605"
      ]
     },
     "execution_count": 23,
     "metadata": {},
     "output_type": "execute_result"
    }
   ],
   "source": [
    "pd.pivot_table(data = sales, index = 'month', columns = 'year', values = 'No_Tractors_Sold')"
   ]
  },
  {
   "cell_type": "code",
   "execution_count": 24,
   "metadata": {},
   "outputs": [
    {
     "data": {
      "text/plain": [
       "<AxesSubplot:xlabel='month'>"
      ]
     },
     "execution_count": 24,
     "metadata": {},
     "output_type": "execute_result"
    },
    {
     "data": {
      "image/png": "[encoded data removed]",
      "text/plain": [
       "<Figure size 432x288 with 1 Axes>"
      ]
     },
     "metadata": {
      "needs_background": "light"
     },
     "output_type": "display_data"
    }
   ],
   "source": [
    "pd.pivot_table(data = sales, index = 'month', columns = 'year', values = 'No_Tractors_Sold').plot(legend=False)"
   ]
  },
  {
   "cell_type": "code",
   "execution_count": 2,
   "metadata": {},
   "outputs": [],
   "source": [
    "from statsmodels.tsa.seasonal import seasonal_decompose"
   ]
  },
  {
   "cell_type": "code",
   "execution_count": 3,
   "metadata": {},
   "outputs": [],
   "source": [
    "seasonal_decompose?"
   ]
  },
  {
   "cell_type": "code",
   "execution_count": 36,
   "metadata": {},
   "outputs": [],
   "source": [
    "# decom = seasonal_decompose(ts, model='multiplicative')\n",
    "decom = seasonal_decompose(ts, model='additive')"
   ]
  },
  {
   "cell_type": "code",
   "execution_count": 37,
   "metadata": {},
   "outputs": [
    {
     "data": {
      "image/png": "[encoded data removed]",
      "text/plain": [
       "<Figure size 432x288 with 4 Axes>"
      ]
     },
     "execution_count": 37,
     "metadata": {},
     "output_type": "execute_result"
    },
    {
     "data": {
      "image/png": "[encoded data removed]",
      "text/plain": [
       "<Figure size 432x288 with 4 Axes>"
      ]
     },
     "metadata": {
      "needs_background": "light"
     },
     "output_type": "display_data"
    }
   ],
   "source": [
    "decom.plot()"
   ]
  },
  {
   "cell_type": "code",
   "execution_count": 38,
   "metadata": {},
   "outputs": [
    {
     "data": {
      "text/plain": [
       "Month_Year\n",
       "2003-01-01   -68.763889\n",
       "2003-02-01   -66.434343\n",
       "2003-03-01    -1.638889\n",
       "2003-04-01    29.952020\n",
       "2003-05-01    75.876263\n",
       "2003-06-01    51.948232\n",
       "2003-07-01    91.584596\n",
       "2003-08-01    90.482323\n",
       "2003-09-01   -14.233586\n",
       "2003-10-01   -61.328283\n",
       "2003-11-01   -88.680556\n",
       "2003-12-01   -38.763889\n",
       "2004-01-01   -68.763889\n",
       "2004-02-01   -66.434343\n",
       "2004-03-01    -1.638889\n",
       "Name: No_Tractors_Sold, dtype: float64"
      ]
     },
     "execution_count": 38,
     "metadata": {},
     "output_type": "execute_result"
    }
   ],
   "source": [
    "decom.seasonal.head(15)"
   ]
  },
  {
   "cell_type": "code",
   "execution_count": 39,
   "metadata": {},
   "outputs": [
    {
     "data": {
      "text/html": [
       "<div>\n",
       "<style scoped>\n",
       "    .dataframe tbody tr th:only-of-type {\n",
       "        vertical-align: middle;\n",
       "    }\n",
       "\n",
       "    .dataframe tbody tr th {\n",
       "        vertical-align: top;\n",
       "    }\n",
       "\n",
       "    .dataframe thead th {\n",
       "        text-align: right;\n",
       "    }\n",
       "</style>\n",
       "<table border=\"1\" class=\"dataframe\">\n",
       "  <thead>\n",
       "    <tr style=\"text-align: right;\">\n",
       "      <th></th>\n",
       "      <th>Actual</th>\n",
       "      <th>Trend</th>\n",
       "      <th>Seasonality</th>\n",
       "      <th>Irregular</th>\n",
       "    </tr>\n",
       "    <tr>\n",
       "      <th>Month_Year</th>\n",
       "      <th></th>\n",
       "      <th></th>\n",
       "      <th></th>\n",
       "      <th></th>\n",
       "    </tr>\n",
       "  </thead>\n",
       "  <tbody>\n",
       "    <tr>\n",
       "      <th>2003-01-01</th>\n",
       "      <td>141</td>\n",
       "      <td>NaN</td>\n",
       "      <td>-68.763889</td>\n",
       "      <td>NaN</td>\n",
       "    </tr>\n",
       "    <tr>\n",
       "      <th>2003-02-01</th>\n",
       "      <td>157</td>\n",
       "      <td>NaN</td>\n",
       "      <td>-66.434343</td>\n",
       "      <td>NaN</td>\n",
       "    </tr>\n",
       "    <tr>\n",
       "      <th>2003-03-01</th>\n",
       "      <td>185</td>\n",
       "      <td>NaN</td>\n",
       "      <td>-1.638889</td>\n",
       "      <td>NaN</td>\n",
       "    </tr>\n",
       "    <tr>\n",
       "      <th>2003-04-01</th>\n",
       "      <td>199</td>\n",
       "      <td>NaN</td>\n",
       "      <td>29.952020</td>\n",
       "      <td>NaN</td>\n",
       "    </tr>\n",
       "    <tr>\n",
       "      <th>2003-05-01</th>\n",
       "      <td>203</td>\n",
       "      <td>NaN</td>\n",
       "      <td>75.876263</td>\n",
       "      <td>NaN</td>\n",
       "    </tr>\n",
       "    <tr>\n",
       "      <th>2003-06-01</th>\n",
       "      <td>189</td>\n",
       "      <td>NaN</td>\n",
       "      <td>51.948232</td>\n",
       "      <td>NaN</td>\n",
       "    </tr>\n",
       "    <tr>\n",
       "      <th>2003-07-01</th>\n",
       "      <td>207</td>\n",
       "      <td>176.166667</td>\n",
       "      <td>91.584596</td>\n",
       "      <td>-60.751263</td>\n",
       "    </tr>\n",
       "    <tr>\n",
       "      <th>2003-08-01</th>\n",
       "      <td>207</td>\n",
       "      <td>176.791667</td>\n",
       "      <td>90.482323</td>\n",
       "      <td>-60.273990</td>\n",
       "    </tr>\n",
       "    <tr>\n",
       "      <th>2003-09-01</th>\n",
       "      <td>171</td>\n",
       "      <td>177.750000</td>\n",
       "      <td>-14.233586</td>\n",
       "      <td>7.483586</td>\n",
       "    </tr>\n",
       "    <tr>\n",
       "      <th>2003-10-01</th>\n",
       "      <td>150</td>\n",
       "      <td>178.625000</td>\n",
       "      <td>-61.328283</td>\n",
       "      <td>32.703283</td>\n",
       "    </tr>\n",
       "    <tr>\n",
       "      <th>2003-11-01</th>\n",
       "      <td>138</td>\n",
       "      <td>179.291667</td>\n",
       "      <td>-88.680556</td>\n",
       "      <td>47.388889</td>\n",
       "    </tr>\n",
       "    <tr>\n",
       "      <th>2003-12-01</th>\n",
       "      <td>165</td>\n",
       "      <td>180.416667</td>\n",
       "      <td>-38.763889</td>\n",
       "      <td>23.347222</td>\n",
       "    </tr>\n",
       "    <tr>\n",
       "      <th>2004-01-01</th>\n",
       "      <td>145</td>\n",
       "      <td>182.541667</td>\n",
       "      <td>-68.763889</td>\n",
       "      <td>31.222222</td>\n",
       "    </tr>\n",
       "    <tr>\n",
       "      <th>2004-02-01</th>\n",
       "      <td>168</td>\n",
       "      <td>185.125000</td>\n",
       "      <td>-66.434343</td>\n",
       "      <td>49.309343</td>\n",
       "    </tr>\n",
       "    <tr>\n",
       "      <th>2004-03-01</th>\n",
       "      <td>197</td>\n",
       "      <td>187.583333</td>\n",
       "      <td>-1.638889</td>\n",
       "      <td>11.055556</td>\n",
       "    </tr>\n",
       "    <tr>\n",
       "      <th>2004-04-01</th>\n",
       "      <td>208</td>\n",
       "      <td>189.500000</td>\n",
       "      <td>29.952020</td>\n",
       "      <td>-11.452020</td>\n",
       "    </tr>\n",
       "    <tr>\n",
       "      <th>2004-05-01</th>\n",
       "      <td>210</td>\n",
       "      <td>190.833333</td>\n",
       "      <td>75.876263</td>\n",
       "      <td>-56.709596</td>\n",
       "    </tr>\n",
       "    <tr>\n",
       "      <th>2004-06-01</th>\n",
       "      <td>209</td>\n",
       "      <td>192.708333</td>\n",
       "      <td>51.948232</td>\n",
       "      <td>-35.656566</td>\n",
       "    </tr>\n",
       "    <tr>\n",
       "      <th>2004-07-01</th>\n",
       "      <td>238</td>\n",
       "      <td>195.583333</td>\n",
       "      <td>91.584596</td>\n",
       "      <td>-49.167929</td>\n",
       "    </tr>\n",
       "    <tr>\n",
       "      <th>2004-08-01</th>\n",
       "      <td>238</td>\n",
       "      <td>198.500000</td>\n",
       "      <td>90.482323</td>\n",
       "      <td>-50.982323</td>\n",
       "    </tr>\n",
       "    <tr>\n",
       "      <th>2004-09-01</th>\n",
       "      <td>199</td>\n",
       "      <td>202.000000</td>\n",
       "      <td>-14.233586</td>\n",
       "      <td>11.233586</td>\n",
       "    </tr>\n",
       "    <tr>\n",
       "      <th>2004-10-01</th>\n",
       "      <td>168</td>\n",
       "      <td>205.958333</td>\n",
       "      <td>-61.328283</td>\n",
       "      <td>23.369949</td>\n",
       "    </tr>\n",
       "    <tr>\n",
       "      <th>2004-11-01</th>\n",
       "      <td>152</td>\n",
       "      <td>211.041667</td>\n",
       "      <td>-88.680556</td>\n",
       "      <td>29.638889</td>\n",
       "    </tr>\n",
       "    <tr>\n",
       "      <th>2004-12-01</th>\n",
       "      <td>196</td>\n",
       "      <td>216.000000</td>\n",
       "      <td>-38.763889</td>\n",
       "      <td>18.763889</td>\n",
       "    </tr>\n",
       "  </tbody>\n",
       "</table>\n",
       "</div>"
      ],
      "text/plain": [
       "            Actual       Trend  Seasonality  Irregular\n",
       "Month_Year                                            \n",
       "2003-01-01     141         NaN   -68.763889        NaN\n",
       "2003-02-01     157         NaN   -66.434343        NaN\n",
       "2003-03-01     185         NaN    -1.638889        NaN\n",
       "2003-04-01     199         NaN    29.952020        NaN\n",
       "2003-05-01     203         NaN    75.876263        NaN\n",
       "2003-06-01     189         NaN    51.948232        NaN\n",
       "2003-07-01     207  176.166667    91.584596 -60.751263\n",
       "2003-08-01     207  176.791667    90.482323 -60.273990\n",
       "2003-09-01     171  177.750000   -14.233586   7.483586\n",
       "2003-10-01     150  178.625000   -61.328283  32.703283\n",
       "2003-11-01     138  179.291667   -88.680556  47.388889\n",
       "2003-12-01     165  180.416667   -38.763889  23.347222\n",
       "2004-01-01     145  182.541667   -68.763889  31.222222\n",
       "2004-02-01     168  185.125000   -66.434343  49.309343\n",
       "2004-03-01     197  187.583333    -1.638889  11.055556\n",
       "2004-04-01     208  189.500000    29.952020 -11.452020\n",
       "2004-05-01     210  190.833333    75.876263 -56.709596\n",
       "2004-06-01     209  192.708333    51.948232 -35.656566\n",
       "2004-07-01     238  195.583333    91.584596 -49.167929\n",
       "2004-08-01     238  198.500000    90.482323 -50.982323\n",
       "2004-09-01     199  202.000000   -14.233586  11.233586\n",
       "2004-10-01     168  205.958333   -61.328283  23.369949\n",
       "2004-11-01     152  211.041667   -88.680556  29.638889\n",
       "2004-12-01     196  216.000000   -38.763889  18.763889"
      ]
     },
     "execution_count": 39,
     "metadata": {},
     "output_type": "execute_result"
    }
   ],
   "source": [
    "decomposed = pd.concat([decom.observed, decom.trend, decom.seasonal, decom.resid], axis=1).head(24)\n",
    "decomposed.columns = ['Actual', 'Trend', 'Seasonality', 'Irregular']\n",
    "decomposed"
   ]
  },
  {
   "cell_type": "code",
   "execution_count": 35,
   "metadata": {},
   "outputs": [
    {
     "data": {
      "text/plain": [
       "207.00001654741857"
      ]
     },
     "execution_count": 35,
     "metadata": {},
     "output_type": "execute_result"
    }
   ],
   "source": [
    "176.166667*1.236024*0.950648"
   ]
  },
  {
   "cell_type": "code",
   "execution_count": 41,
   "metadata": {},
   "outputs": [
    {
     "data": {
      "text/plain": [
       "207.0"
      ]
     },
     "execution_count": 41,
     "metadata": {},
     "output_type": "execute_result"
    }
   ],
   "source": [
    "176.166667+91.584596-60.751263"
   ]
  },
  {
   "cell_type": "markdown",
   "metadata": {},
   "source": [
    "If both Trend and Seasonality are present in the data - Use Multiplicative\n",
    "\n",
    "Either trend or seasonality - Use Additive ( can use Multiplicative as well )"
   ]
  },
  {
   "cell_type": "markdown",
   "metadata": {},
   "source": [
    "-------"
   ]
  },
  {
   "cell_type": "markdown",
   "metadata": {},
   "source": [
    "Use stldecompose if you want to predict values for future months as well"
   ]
  },
  {
   "cell_type": "raw",
   "metadata": {},
   "source": [
    "!pip install stldecompose"
   ]
  },
  {
   "cell_type": "raw",
   "metadata": {},
   "source": [
    "!pip install statsmodels==0.10.2"
   ]
  },
  {
   "cell_type": "markdown",
   "metadata": {},
   "source": [
    "### STL - Seasonality Trend Loess (Locally Estimated Regression)"
   ]
  },
  {
   "cell_type": "code",
   "execution_count": 42,
   "metadata": {},
   "outputs": [],
   "source": [
    "from stldecompose import decompose, forecast"
   ]
  },
  {
   "cell_type": "code",
   "execution_count": 48,
   "metadata": {},
   "outputs": [],
   "source": [
    "decompose?"
   ]
  },
  {
   "cell_type": "code",
   "execution_count": 43,
   "metadata": {},
   "outputs": [],
   "source": [
    "from stldecompose.forecast_funcs import naive, drift, mean"
   ]
  },
  {
   "cell_type": "code",
   "execution_count": 44,
   "metadata": {},
   "outputs": [],
   "source": [
    "decom = decompose(ts)"
   ]
  },
  {
   "cell_type": "code",
   "execution_count": 45,
   "metadata": {},
   "outputs": [
    {
     "data": {
      "image/png": "[encoded data removed]",
      "text/plain": [
       "<Figure size 432x288 with 4 Axes>"
      ]
     },
     "execution_count": 45,
     "metadata": {},
     "output_type": "execute_result"
    },
    {
     "data": {
      "image/png": "[encoded data removed]",
      "text/plain": [
       "<Figure size 432x288 with 4 Axes>"
      ]
     },
     "metadata": {
      "needs_background": "light"
     },
     "output_type": "display_data"
    }
   ],
   "source": [
    "decom.plot()"
   ]
  },
  {
   "cell_type": "code",
   "execution_count": 46,
   "metadata": {},
   "outputs": [],
   "source": [
    "stl_decom_values = pd.concat([decom.observed, decom.trend, decom.seasonal, decom.resid], axis=1).head(24)"
   ]
  },
  {
   "cell_type": "code",
   "execution_count": 47,
   "metadata": {},
   "outputs": [
    {
     "data": {
      "text/html": [
       "<div>\n",
       "<style scoped>\n",
       "    .dataframe tbody tr th:only-of-type {\n",
       "        vertical-align: middle;\n",
       "    }\n",
       "\n",
       "    .dataframe tbody tr th {\n",
       "        vertical-align: top;\n",
       "    }\n",
       "\n",
       "    .dataframe thead th {\n",
       "        text-align: right;\n",
       "    }\n",
       "</style>\n",
       "<table border=\"1\" class=\"dataframe\">\n",
       "  <thead>\n",
       "    <tr style=\"text-align: right;\">\n",
       "      <th></th>\n",
       "      <th>Actual</th>\n",
       "      <th>Trend</th>\n",
       "      <th>Seasonality</th>\n",
       "      <th>Irregular</th>\n",
       "    </tr>\n",
       "    <tr>\n",
       "      <th>Month_Year</th>\n",
       "      <th></th>\n",
       "      <th></th>\n",
       "      <th></th>\n",
       "      <th></th>\n",
       "    </tr>\n",
       "  </thead>\n",
       "  <tbody>\n",
       "    <tr>\n",
       "      <th>2003-01-01</th>\n",
       "      <td>141</td>\n",
       "      <td>155.580044</td>\n",
       "      <td>-22.301458</td>\n",
       "      <td>7.721414</td>\n",
       "    </tr>\n",
       "    <tr>\n",
       "      <th>2003-02-01</th>\n",
       "      <td>157</td>\n",
       "      <td>158.350693</td>\n",
       "      <td>-9.072107</td>\n",
       "      <td>7.721414</td>\n",
       "    </tr>\n",
       "    <tr>\n",
       "      <th>2003-03-01</th>\n",
       "      <td>185</td>\n",
       "      <td>161.125147</td>\n",
       "      <td>16.153439</td>\n",
       "      <td>7.721414</td>\n",
       "    </tr>\n",
       "    <tr>\n",
       "      <th>2003-04-01</th>\n",
       "      <td>199</td>\n",
       "      <td>163.903526</td>\n",
       "      <td>27.375060</td>\n",
       "      <td>7.721414</td>\n",
       "    </tr>\n",
       "    <tr>\n",
       "      <th>2003-05-01</th>\n",
       "      <td>203</td>\n",
       "      <td>166.685867</td>\n",
       "      <td>28.592719</td>\n",
       "      <td>7.721414</td>\n",
       "    </tr>\n",
       "    <tr>\n",
       "      <th>2003-06-01</th>\n",
       "      <td>189</td>\n",
       "      <td>169.472079</td>\n",
       "      <td>11.806507</td>\n",
       "      <td>7.721414</td>\n",
       "    </tr>\n",
       "    <tr>\n",
       "      <th>2003-07-01</th>\n",
       "      <td>207</td>\n",
       "      <td>172.261943</td>\n",
       "      <td>27.016643</td>\n",
       "      <td>7.721414</td>\n",
       "    </tr>\n",
       "    <tr>\n",
       "      <th>2003-08-01</th>\n",
       "      <td>207</td>\n",
       "      <td>175.055143</td>\n",
       "      <td>24.223444</td>\n",
       "      <td>7.721414</td>\n",
       "    </tr>\n",
       "    <tr>\n",
       "      <th>2003-09-01</th>\n",
       "      <td>171</td>\n",
       "      <td>177.851233</td>\n",
       "      <td>-14.572647</td>\n",
       "      <td>7.721414</td>\n",
       "    </tr>\n",
       "    <tr>\n",
       "      <th>2003-10-01</th>\n",
       "      <td>150</td>\n",
       "      <td>180.649664</td>\n",
       "      <td>-38.371078</td>\n",
       "      <td>7.721414</td>\n",
       "    </tr>\n",
       "    <tr>\n",
       "      <th>2003-11-01</th>\n",
       "      <td>138</td>\n",
       "      <td>183.449876</td>\n",
       "      <td>-53.171290</td>\n",
       "      <td>7.721414</td>\n",
       "    </tr>\n",
       "    <tr>\n",
       "      <th>2003-12-01</th>\n",
       "      <td>165</td>\n",
       "      <td>186.251385</td>\n",
       "      <td>-28.972799</td>\n",
       "      <td>7.721414</td>\n",
       "    </tr>\n",
       "    <tr>\n",
       "      <th>2004-01-01</th>\n",
       "      <td>145</td>\n",
       "      <td>189.053810</td>\n",
       "      <td>-51.775224</td>\n",
       "      <td>7.721414</td>\n",
       "    </tr>\n",
       "    <tr>\n",
       "      <th>2004-02-01</th>\n",
       "      <td>168</td>\n",
       "      <td>191.856850</td>\n",
       "      <td>-31.578264</td>\n",
       "      <td>7.721414</td>\n",
       "    </tr>\n",
       "    <tr>\n",
       "      <th>2004-03-01</th>\n",
       "      <td>197</td>\n",
       "      <td>194.660308</td>\n",
       "      <td>-5.381722</td>\n",
       "      <td>7.721414</td>\n",
       "    </tr>\n",
       "    <tr>\n",
       "      <th>2004-04-01</th>\n",
       "      <td>208</td>\n",
       "      <td>197.464057</td>\n",
       "      <td>2.814529</td>\n",
       "      <td>7.721414</td>\n",
       "    </tr>\n",
       "    <tr>\n",
       "      <th>2004-05-01</th>\n",
       "      <td>210</td>\n",
       "      <td>200.267973</td>\n",
       "      <td>2.010613</td>\n",
       "      <td>7.721414</td>\n",
       "    </tr>\n",
       "    <tr>\n",
       "      <th>2004-06-01</th>\n",
       "      <td>209</td>\n",
       "      <td>203.071908</td>\n",
       "      <td>-1.793322</td>\n",
       "      <td>7.721414</td>\n",
       "    </tr>\n",
       "    <tr>\n",
       "      <th>2004-07-01</th>\n",
       "      <td>238</td>\n",
       "      <td>205.875687</td>\n",
       "      <td>24.402899</td>\n",
       "      <td>7.721414</td>\n",
       "    </tr>\n",
       "    <tr>\n",
       "      <th>2004-08-01</th>\n",
       "      <td>238</td>\n",
       "      <td>208.679104</td>\n",
       "      <td>21.599482</td>\n",
       "      <td>7.721414</td>\n",
       "    </tr>\n",
       "    <tr>\n",
       "      <th>2004-09-01</th>\n",
       "      <td>199</td>\n",
       "      <td>211.481867</td>\n",
       "      <td>-20.203281</td>\n",
       "      <td>7.721414</td>\n",
       "    </tr>\n",
       "    <tr>\n",
       "      <th>2004-10-01</th>\n",
       "      <td>168</td>\n",
       "      <td>214.283607</td>\n",
       "      <td>-54.005021</td>\n",
       "      <td>7.721414</td>\n",
       "    </tr>\n",
       "    <tr>\n",
       "      <th>2004-11-01</th>\n",
       "      <td>152</td>\n",
       "      <td>217.083975</td>\n",
       "      <td>-72.805389</td>\n",
       "      <td>7.721414</td>\n",
       "    </tr>\n",
       "    <tr>\n",
       "      <th>2004-12-01</th>\n",
       "      <td>196</td>\n",
       "      <td>219.882736</td>\n",
       "      <td>-31.604150</td>\n",
       "      <td>7.721414</td>\n",
       "    </tr>\n",
       "  </tbody>\n",
       "</table>\n",
       "</div>"
      ],
      "text/plain": [
       "            Actual       Trend  Seasonality  Irregular\n",
       "Month_Year                                            \n",
       "2003-01-01     141  155.580044   -22.301458   7.721414\n",
       "2003-02-01     157  158.350693    -9.072107   7.721414\n",
       "2003-03-01     185  161.125147    16.153439   7.721414\n",
       "2003-04-01     199  163.903526    27.375060   7.721414\n",
       "2003-05-01     203  166.685867    28.592719   7.721414\n",
       "2003-06-01     189  169.472079    11.806507   7.721414\n",
       "2003-07-01     207  172.261943    27.016643   7.721414\n",
       "2003-08-01     207  175.055143    24.223444   7.721414\n",
       "2003-09-01     171  177.851233   -14.572647   7.721414\n",
       "2003-10-01     150  180.649664   -38.371078   7.721414\n",
       "2003-11-01     138  183.449876   -53.171290   7.721414\n",
       "2003-12-01     165  186.251385   -28.972799   7.721414\n",
       "2004-01-01     145  189.053810   -51.775224   7.721414\n",
       "2004-02-01     168  191.856850   -31.578264   7.721414\n",
       "2004-03-01     197  194.660308    -5.381722   7.721414\n",
       "2004-04-01     208  197.464057     2.814529   7.721414\n",
       "2004-05-01     210  200.267973     2.010613   7.721414\n",
       "2004-06-01     209  203.071908    -1.793322   7.721414\n",
       "2004-07-01     238  205.875687    24.402899   7.721414\n",
       "2004-08-01     238  208.679104    21.599482   7.721414\n",
       "2004-09-01     199  211.481867   -20.203281   7.721414\n",
       "2004-10-01     168  214.283607   -54.005021   7.721414\n",
       "2004-11-01     152  217.083975   -72.805389   7.721414\n",
       "2004-12-01     196  219.882736   -31.604150   7.721414"
      ]
     },
     "execution_count": 47,
     "metadata": {},
     "output_type": "execute_result"
    }
   ],
   "source": [
    "stl_decom_values.columns = ['Actual', 'Trend', 'Seasonality', 'Irregular']\n",
    "stl_decom_values"
   ]
  },
  {
   "cell_type": "markdown",
   "metadata": {},
   "source": [
    "### Train Test Split"
   ]
  },
  {
   "cell_type": "code",
   "execution_count": 49,
   "metadata": {},
   "outputs": [
    {
     "data": {
      "text/plain": [
       "Month_Year\n",
       "2003-01-01    141\n",
       "2003-02-01    157\n",
       "2003-03-01    185\n",
       "2003-04-01    199\n",
       "2003-05-01    203\n",
       "             ... \n",
       "2014-08-01    848\n",
       "2014-09-01    640\n",
       "2014-10-01    581\n",
       "2014-11-01    519\n",
       "2014-12-01    605\n",
       "Name: No_Tractors_Sold, Length: 144, dtype: int64"
      ]
     },
     "execution_count": 49,
     "metadata": {},
     "output_type": "execute_result"
    }
   ],
   "source": [
    "sales.No_Tractors_Sold"
   ]
  },
  {
   "cell_type": "code",
   "execution_count": null,
   "metadata": {},
   "outputs": [],
   "source": [
    "df[:10]"
   ]
  },
  {
   "cell_type": "code",
   "execution_count": 50,
   "metadata": {},
   "outputs": [
    {
     "data": {
      "text/plain": [
       "Month_Year\n",
       "2003-01-01    141\n",
       "2003-02-01    157\n",
       "2003-03-01    185\n",
       "2003-04-01    199\n",
       "2003-05-01    203\n",
       "             ... \n",
       "2014-02-01    520\n",
       "2014-03-01    587\n",
       "2014-04-01    710\n",
       "2014-05-01    793\n",
       "2014-06-01    749\n",
       "Name: No_Tractors_Sold, Length: 138, dtype: int64"
      ]
     },
     "execution_count": 50,
     "metadata": {},
     "output_type": "execute_result"
    }
   ],
   "source": [
    "train = sales.No_Tractors_Sold[:'2014-06-01']\n",
    "train"
   ]
  },
  {
   "cell_type": "code",
   "execution_count": 51,
   "metadata": {},
   "outputs": [
    {
     "data": {
      "text/plain": [
       "Month_Year\n",
       "2014-07-01    871\n",
       "2014-08-01    848\n",
       "2014-09-01    640\n",
       "2014-10-01    581\n",
       "2014-11-01    519\n",
       "2014-12-01    605\n",
       "Name: No_Tractors_Sold, dtype: int64"
      ]
     },
     "execution_count": 51,
     "metadata": {},
     "output_type": "execute_result"
    }
   ],
   "source": [
    "test = sales.No_Tractors_Sold['2014-07-01':]\n",
    "test"
   ]
  },
  {
   "cell_type": "markdown",
   "metadata": {},
   "source": [
    "### Forecasting using STL Forecast()"
   ]
  },
  {
   "cell_type": "code",
   "execution_count": 52,
   "metadata": {},
   "outputs": [],
   "source": [
    "decom_train = decompose(train, period = 12)"
   ]
  },
  {
   "cell_type": "code",
   "execution_count": 53,
   "metadata": {},
   "outputs": [
    {
     "data": {
      "text/plain": [
       "Month_Year\n",
       "2003-01-01    141\n",
       "2003-02-01    157\n",
       "2003-03-01    185\n",
       "2003-04-01    199\n",
       "2003-05-01    203\n",
       "             ... \n",
       "2014-02-01    520\n",
       "2014-03-01    587\n",
       "2014-04-01    710\n",
       "2014-05-01    793\n",
       "2014-06-01    749\n",
       "Name: No_Tractors_Sold, Length: 138, dtype: int64"
      ]
     },
     "execution_count": 53,
     "metadata": {},
     "output_type": "execute_result"
    }
   ],
   "source": [
    "decom_train.observed"
   ]
  },
  {
   "cell_type": "code",
   "execution_count": 54,
   "metadata": {},
   "outputs": [
    {
     "data": {
      "text/html": [
       "<div>\n",
       "<style scoped>\n",
       "    .dataframe tbody tr th:only-of-type {\n",
       "        vertical-align: middle;\n",
       "    }\n",
       "\n",
       "    .dataframe tbody tr th {\n",
       "        vertical-align: top;\n",
       "    }\n",
       "\n",
       "    .dataframe thead th {\n",
       "        text-align: right;\n",
       "    }\n",
       "</style>\n",
       "<table border=\"1\" class=\"dataframe\">\n",
       "  <thead>\n",
       "    <tr style=\"text-align: right;\">\n",
       "      <th></th>\n",
       "      <th>drift+seasonal</th>\n",
       "    </tr>\n",
       "  </thead>\n",
       "  <tbody>\n",
       "    <tr>\n",
       "      <th>2014-07-02</th>\n",
       "      <td>716.038863</td>\n",
       "    </tr>\n",
       "    <tr>\n",
       "      <th>2014-08-02</th>\n",
       "      <td>718.125634</td>\n",
       "    </tr>\n",
       "    <tr>\n",
       "      <th>2014-09-02</th>\n",
       "      <td>616.651714</td>\n",
       "    </tr>\n",
       "    <tr>\n",
       "      <th>2014-10-03</th>\n",
       "      <td>573.352222</td>\n",
       "    </tr>\n",
       "    <tr>\n",
       "      <th>2014-11-03</th>\n",
       "      <td>550.506493</td>\n",
       "    </tr>\n",
       "    <tr>\n",
       "      <th>2014-12-04</th>\n",
       "      <td>605.119672</td>\n",
       "    </tr>\n",
       "  </tbody>\n",
       "</table>\n",
       "</div>"
      ],
      "text/plain": [
       "            drift+seasonal\n",
       "2014-07-02      716.038863\n",
       "2014-08-02      718.125634\n",
       "2014-09-02      616.651714\n",
       "2014-10-03      573.352222\n",
       "2014-11-03      550.506493\n",
       "2014-12-04      605.119672"
      ]
     },
     "execution_count": 54,
     "metadata": {},
     "output_type": "execute_result"
    }
   ],
   "source": [
    "forecast(decom_train, steps = 6, fc_func = drift, seasonal = True)"
   ]
  },
  {
   "cell_type": "code",
   "execution_count": 55,
   "metadata": {},
   "outputs": [],
   "source": [
    "fcast_6m = forecast(decom_train, steps = 6, fc_func = drift, seasonal = True)   #Algorithm"
   ]
  },
  {
   "cell_type": "code",
   "execution_count": 56,
   "metadata": {},
   "outputs": [],
   "source": [
    "fcast_6m.columns = ['fcast']"
   ]
  },
  {
   "cell_type": "code",
   "execution_count": 57,
   "metadata": {},
   "outputs": [
    {
     "data": {
      "text/html": [
       "<div>\n",
       "<style scoped>\n",
       "    .dataframe tbody tr th:only-of-type {\n",
       "        vertical-align: middle;\n",
       "    }\n",
       "\n",
       "    .dataframe tbody tr th {\n",
       "        vertical-align: top;\n",
       "    }\n",
       "\n",
       "    .dataframe thead th {\n",
       "        text-align: right;\n",
       "    }\n",
       "</style>\n",
       "<table border=\"1\" class=\"dataframe\">\n",
       "  <thead>\n",
       "    <tr style=\"text-align: right;\">\n",
       "      <th></th>\n",
       "      <th>fcast</th>\n",
       "    </tr>\n",
       "  </thead>\n",
       "  <tbody>\n",
       "    <tr>\n",
       "      <th>2014-07-02</th>\n",
       "      <td>716.038863</td>\n",
       "    </tr>\n",
       "    <tr>\n",
       "      <th>2014-08-02</th>\n",
       "      <td>718.125634</td>\n",
       "    </tr>\n",
       "    <tr>\n",
       "      <th>2014-09-02</th>\n",
       "      <td>616.651714</td>\n",
       "    </tr>\n",
       "    <tr>\n",
       "      <th>2014-10-03</th>\n",
       "      <td>573.352222</td>\n",
       "    </tr>\n",
       "    <tr>\n",
       "      <th>2014-11-03</th>\n",
       "      <td>550.506493</td>\n",
       "    </tr>\n",
       "    <tr>\n",
       "      <th>2014-12-04</th>\n",
       "      <td>605.119672</td>\n",
       "    </tr>\n",
       "  </tbody>\n",
       "</table>\n",
       "</div>"
      ],
      "text/plain": [
       "                 fcast\n",
       "2014-07-02  716.038863\n",
       "2014-08-02  718.125634\n",
       "2014-09-02  616.651714\n",
       "2014-10-03  573.352222\n",
       "2014-11-03  550.506493\n",
       "2014-12-04  605.119672"
      ]
     },
     "execution_count": 57,
     "metadata": {},
     "output_type": "execute_result"
    }
   ],
   "source": [
    "fcast_6m"
   ]
  },
  {
   "cell_type": "code",
   "execution_count": 58,
   "metadata": {},
   "outputs": [
    {
     "data": {
      "text/plain": [
       "Month_Year\n",
       "2014-07-01    871\n",
       "2014-08-01    848\n",
       "2014-09-01    640\n",
       "2014-10-01    581\n",
       "2014-11-01    519\n",
       "2014-12-01    605\n",
       "Name: No_Tractors_Sold, dtype: int64"
      ]
     },
     "execution_count": 58,
     "metadata": {},
     "output_type": "execute_result"
    }
   ],
   "source": [
    "test"
   ]
  },
  {
   "cell_type": "code",
   "execution_count": 59,
   "metadata": {},
   "outputs": [
    {
     "data": {
      "text/html": [
       "<div>\n",
       "<style scoped>\n",
       "    .dataframe tbody tr th:only-of-type {\n",
       "        vertical-align: middle;\n",
       "    }\n",
       "\n",
       "    .dataframe tbody tr th {\n",
       "        vertical-align: top;\n",
       "    }\n",
       "\n",
       "    .dataframe thead th {\n",
       "        text-align: right;\n",
       "    }\n",
       "</style>\n",
       "<table border=\"1\" class=\"dataframe\">\n",
       "  <thead>\n",
       "    <tr style=\"text-align: right;\">\n",
       "      <th></th>\n",
       "      <th>Month_Year</th>\n",
       "      <th>No_Tractors_Sold</th>\n",
       "    </tr>\n",
       "  </thead>\n",
       "  <tbody>\n",
       "    <tr>\n",
       "      <th>0</th>\n",
       "      <td>2014-07-01</td>\n",
       "      <td>871</td>\n",
       "    </tr>\n",
       "    <tr>\n",
       "      <th>1</th>\n",
       "      <td>2014-08-01</td>\n",
       "      <td>848</td>\n",
       "    </tr>\n",
       "    <tr>\n",
       "      <th>2</th>\n",
       "      <td>2014-09-01</td>\n",
       "      <td>640</td>\n",
       "    </tr>\n",
       "    <tr>\n",
       "      <th>3</th>\n",
       "      <td>2014-10-01</td>\n",
       "      <td>581</td>\n",
       "    </tr>\n",
       "    <tr>\n",
       "      <th>4</th>\n",
       "      <td>2014-11-01</td>\n",
       "      <td>519</td>\n",
       "    </tr>\n",
       "    <tr>\n",
       "      <th>5</th>\n",
       "      <td>2014-12-01</td>\n",
       "      <td>605</td>\n",
       "    </tr>\n",
       "  </tbody>\n",
       "</table>\n",
       "</div>"
      ],
      "text/plain": [
       "  Month_Year  No_Tractors_Sold\n",
       "0 2014-07-01               871\n",
       "1 2014-08-01               848\n",
       "2 2014-09-01               640\n",
       "3 2014-10-01               581\n",
       "4 2014-11-01               519\n",
       "5 2014-12-01               605"
      ]
     },
     "execution_count": 59,
     "metadata": {},
     "output_type": "execute_result"
    }
   ],
   "source": [
    "pd.DataFrame(test).reset_index()"
   ]
  },
  {
   "cell_type": "code",
   "execution_count": 60,
   "metadata": {},
   "outputs": [
    {
     "data": {
      "text/html": [
       "<div>\n",
       "<style scoped>\n",
       "    .dataframe tbody tr th:only-of-type {\n",
       "        vertical-align: middle;\n",
       "    }\n",
       "\n",
       "    .dataframe tbody tr th {\n",
       "        vertical-align: top;\n",
       "    }\n",
       "\n",
       "    .dataframe thead th {\n",
       "        text-align: right;\n",
       "    }\n",
       "</style>\n",
       "<table border=\"1\" class=\"dataframe\">\n",
       "  <thead>\n",
       "    <tr style=\"text-align: right;\">\n",
       "      <th></th>\n",
       "      <th>0</th>\n",
       "    </tr>\n",
       "  </thead>\n",
       "  <tbody>\n",
       "    <tr>\n",
       "      <th>0</th>\n",
       "      <td>716.038863</td>\n",
       "    </tr>\n",
       "    <tr>\n",
       "      <th>1</th>\n",
       "      <td>718.125634</td>\n",
       "    </tr>\n",
       "    <tr>\n",
       "      <th>2</th>\n",
       "      <td>616.651714</td>\n",
       "    </tr>\n",
       "    <tr>\n",
       "      <th>3</th>\n",
       "      <td>573.352222</td>\n",
       "    </tr>\n",
       "    <tr>\n",
       "      <th>4</th>\n",
       "      <td>550.506493</td>\n",
       "    </tr>\n",
       "    <tr>\n",
       "      <th>5</th>\n",
       "      <td>605.119672</td>\n",
       "    </tr>\n",
       "  </tbody>\n",
       "</table>\n",
       "</div>"
      ],
      "text/plain": [
       "            0\n",
       "0  716.038863\n",
       "1  718.125634\n",
       "2  616.651714\n",
       "3  573.352222\n",
       "4  550.506493\n",
       "5  605.119672"
      ]
     },
     "execution_count": 60,
     "metadata": {},
     "output_type": "execute_result"
    }
   ],
   "source": [
    "pd.DataFrame(fcast_6m.values)"
   ]
  },
  {
   "cell_type": "code",
   "execution_count": 61,
   "metadata": {},
   "outputs": [],
   "source": [
    "fcast_test = pd.concat([pd.DataFrame(test).reset_index(),pd.DataFrame(fcast_6m.values)], axis = 1)"
   ]
  },
  {
   "cell_type": "code",
   "execution_count": 62,
   "metadata": {},
   "outputs": [],
   "source": [
    "fcast_test.set_index(fcast_test.Month_Year, inplace=True)"
   ]
  },
  {
   "cell_type": "code",
   "execution_count": 63,
   "metadata": {},
   "outputs": [],
   "source": [
    "fcast_test.drop('Month_Year', axis = 1, inplace = True)"
   ]
  },
  {
   "cell_type": "code",
   "execution_count": 64,
   "metadata": {},
   "outputs": [],
   "source": [
    "fcast_test.columns = ['Actual', 'Forecast']"
   ]
  },
  {
   "cell_type": "code",
   "execution_count": 65,
   "metadata": {},
   "outputs": [
    {
     "data": {
      "text/html": [
       "<div>\n",
       "<style scoped>\n",
       "    .dataframe tbody tr th:only-of-type {\n",
       "        vertical-align: middle;\n",
       "    }\n",
       "\n",
       "    .dataframe tbody tr th {\n",
       "        vertical-align: top;\n",
       "    }\n",
       "\n",
       "    .dataframe thead th {\n",
       "        text-align: right;\n",
       "    }\n",
       "</style>\n",
       "<table border=\"1\" class=\"dataframe\">\n",
       "  <thead>\n",
       "    <tr style=\"text-align: right;\">\n",
       "      <th></th>\n",
       "      <th>Actual</th>\n",
       "      <th>Forecast</th>\n",
       "    </tr>\n",
       "    <tr>\n",
       "      <th>Month_Year</th>\n",
       "      <th></th>\n",
       "      <th></th>\n",
       "    </tr>\n",
       "  </thead>\n",
       "  <tbody>\n",
       "    <tr>\n",
       "      <th>2014-07-01</th>\n",
       "      <td>871</td>\n",
       "      <td>716.038863</td>\n",
       "    </tr>\n",
       "    <tr>\n",
       "      <th>2014-08-01</th>\n",
       "      <td>848</td>\n",
       "      <td>718.125634</td>\n",
       "    </tr>\n",
       "    <tr>\n",
       "      <th>2014-09-01</th>\n",
       "      <td>640</td>\n",
       "      <td>616.651714</td>\n",
       "    </tr>\n",
       "    <tr>\n",
       "      <th>2014-10-01</th>\n",
       "      <td>581</td>\n",
       "      <td>573.352222</td>\n",
       "    </tr>\n",
       "    <tr>\n",
       "      <th>2014-11-01</th>\n",
       "      <td>519</td>\n",
       "      <td>550.506493</td>\n",
       "    </tr>\n",
       "    <tr>\n",
       "      <th>2014-12-01</th>\n",
       "      <td>605</td>\n",
       "      <td>605.119672</td>\n",
       "    </tr>\n",
       "  </tbody>\n",
       "</table>\n",
       "</div>"
      ],
      "text/plain": [
       "            Actual    Forecast\n",
       "Month_Year                    \n",
       "2014-07-01     871  716.038863\n",
       "2014-08-01     848  718.125634\n",
       "2014-09-01     640  616.651714\n",
       "2014-10-01     581  573.352222\n",
       "2014-11-01     519  550.506493\n",
       "2014-12-01     605  605.119672"
      ]
     },
     "execution_count": 65,
     "metadata": {},
     "output_type": "execute_result"
    }
   ],
   "source": [
    "fcast_test"
   ]
  },
  {
   "cell_type": "code",
   "execution_count": 66,
   "metadata": {},
   "outputs": [],
   "source": [
    "fcast_test['Diff'] = np.abs(fcast_test.Actual - fcast_test.Forecast)"
   ]
  },
  {
   "cell_type": "code",
   "execution_count": 67,
   "metadata": {},
   "outputs": [],
   "source": [
    "fcast_test['APE'] = np.abs(fcast_test.Actual - fcast_test.Forecast)/fcast_test.Actual"
   ]
  },
  {
   "cell_type": "code",
   "execution_count": 68,
   "metadata": {},
   "outputs": [
    {
     "data": {
      "text/html": [
       "<div>\n",
       "<style scoped>\n",
       "    .dataframe tbody tr th:only-of-type {\n",
       "        vertical-align: middle;\n",
       "    }\n",
       "\n",
       "    .dataframe tbody tr th {\n",
       "        vertical-align: top;\n",
       "    }\n",
       "\n",
       "    .dataframe thead th {\n",
       "        text-align: right;\n",
       "    }\n",
       "</style>\n",
       "<table border=\"1\" class=\"dataframe\">\n",
       "  <thead>\n",
       "    <tr style=\"text-align: right;\">\n",
       "      <th></th>\n",
       "      <th>Actual</th>\n",
       "      <th>Forecast</th>\n",
       "      <th>Diff</th>\n",
       "      <th>APE</th>\n",
       "    </tr>\n",
       "    <tr>\n",
       "      <th>Month_Year</th>\n",
       "      <th></th>\n",
       "      <th></th>\n",
       "      <th></th>\n",
       "      <th></th>\n",
       "    </tr>\n",
       "  </thead>\n",
       "  <tbody>\n",
       "    <tr>\n",
       "      <th>2014-07-01</th>\n",
       "      <td>871</td>\n",
       "      <td>716.038863</td>\n",
       "      <td>154.961137</td>\n",
       "      <td>0.177912</td>\n",
       "    </tr>\n",
       "    <tr>\n",
       "      <th>2014-08-01</th>\n",
       "      <td>848</td>\n",
       "      <td>718.125634</td>\n",
       "      <td>129.874366</td>\n",
       "      <td>0.153154</td>\n",
       "    </tr>\n",
       "    <tr>\n",
       "      <th>2014-09-01</th>\n",
       "      <td>640</td>\n",
       "      <td>616.651714</td>\n",
       "      <td>23.348286</td>\n",
       "      <td>0.036482</td>\n",
       "    </tr>\n",
       "    <tr>\n",
       "      <th>2014-10-01</th>\n",
       "      <td>581</td>\n",
       "      <td>573.352222</td>\n",
       "      <td>7.647778</td>\n",
       "      <td>0.013163</td>\n",
       "    </tr>\n",
       "    <tr>\n",
       "      <th>2014-11-01</th>\n",
       "      <td>519</td>\n",
       "      <td>550.506493</td>\n",
       "      <td>31.506493</td>\n",
       "      <td>0.060706</td>\n",
       "    </tr>\n",
       "    <tr>\n",
       "      <th>2014-12-01</th>\n",
       "      <td>605</td>\n",
       "      <td>605.119672</td>\n",
       "      <td>0.119672</td>\n",
       "      <td>0.000198</td>\n",
       "    </tr>\n",
       "  </tbody>\n",
       "</table>\n",
       "</div>"
      ],
      "text/plain": [
       "            Actual    Forecast        Diff       APE\n",
       "Month_Year                                          \n",
       "2014-07-01     871  716.038863  154.961137  0.177912\n",
       "2014-08-01     848  718.125634  129.874366  0.153154\n",
       "2014-09-01     640  616.651714   23.348286  0.036482\n",
       "2014-10-01     581  573.352222    7.647778  0.013163\n",
       "2014-11-01     519  550.506493   31.506493  0.060706\n",
       "2014-12-01     605  605.119672    0.119672  0.000198"
      ]
     },
     "execution_count": 68,
     "metadata": {},
     "output_type": "execute_result"
    }
   ],
   "source": [
    "fcast_test"
   ]
  },
  {
   "cell_type": "code",
   "execution_count": 69,
   "metadata": {},
   "outputs": [
    {
     "data": {
      "text/plain": [
       "0.07360237860400766"
      ]
     },
     "execution_count": 69,
     "metadata": {},
     "output_type": "execute_result"
    }
   ],
   "source": [
    "np.mean(fcast_test['APE'])"
   ]
  },
  {
   "cell_type": "raw",
   "metadata": {},
   "source": [
    "MAPE = Mean Absolute Percentage Error"
   ]
  },
  {
   "cell_type": "code",
   "execution_count": 76,
   "metadata": {},
   "outputs": [
    {
     "data": {
      "text/plain": [
       "Month_Year\n",
       "2003-01-01    141\n",
       "2003-02-01    157\n",
       "2003-03-01    185\n",
       "2003-04-01    199\n",
       "2003-05-01    203\n",
       "             ... \n",
       "2014-02-01    520\n",
       "2014-03-01    587\n",
       "2014-04-01    710\n",
       "2014-05-01    793\n",
       "2014-06-01    749\n",
       "Name: No_Tractors_Sold, Length: 138, dtype: int64"
      ]
     },
     "execution_count": 76,
     "metadata": {},
     "output_type": "execute_result"
    }
   ],
   "source": [
    "train"
   ]
  },
  {
   "cell_type": "code",
   "execution_count": 78,
   "metadata": {},
   "outputs": [
    {
     "data": {
      "text/plain": [
       "0.0812949518590898"
      ]
     },
     "execution_count": 78,
     "metadata": {},
     "output_type": "execute_result"
    }
   ],
   "source": [
    "np.mean(np.abs(train - (decom_train.trend + decom_train.seasonal )) / train)"
   ]
  },
  {
   "cell_type": "code",
   "execution_count": null,
   "metadata": {},
   "outputs": [],
   "source": [
    "MAPE - Train"
   ]
  },
  {
   "cell_type": "code",
   "execution_count": null,
   "metadata": {},
   "outputs": [],
   "source": []
  }
 ],
 "metadata": {
  "kernelspec": {
   "display_name": "Python 3 (ipykernel)",
   "language": "python",
   "name": "python3"
  },
  "language_info": {
   "codemirror_mode": {
    "name": "ipython",
    "version": 3
   },
   "file_extension": ".py",
   "mimetype": "text/x-python",
   "name": "python",
   "nbconvert_exporter": "python",
   "pygments_lexer": "ipython3",
   "version": "3.11.5"
  },
  "varInspector": {
   "cols": {
    "lenName": 16,
    "lenType": 16,
    "lenVar": 40
   },
   "kernels_config": {
    "python": {
     "delete_cmd_postfix": "",
     "delete_cmd_prefix": "del ",
     "library": "var_list.py",
     "varRefreshCmd": "print(var_dic_list())"
    },
    "r": {
     "delete_cmd_postfix": ") ",
     "delete_cmd_prefix": "rm(",
     "library": "var_list.r",
     "varRefreshCmd": "cat(var_dic_list()) "
    }
   },
   "types_to_exclude": [
    "module",
    "function",
    "builtin_function_or_method",
    "instance",
    "_Feature"
   ],
   "window_display": false
  }
 },
 "nbformat": 4,
 "nbformat_minor": 2
}
